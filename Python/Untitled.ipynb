{
 "cells": [
  {
   "cell_type": "code",
   "execution_count": 2,
   "metadata": {},
   "outputs": [],
   "source": [
    "import matplotlib.pyplot as plt\n",
    "import numpy as np\n",
    "from scipy import interpolate\n",
    "x = np.arange(0, 10)\n",
    "y = np.exp(-x/3.0)\n",
    "f = interpolate.interp1d(x, y)\n"
   ]
  },
  {
   "cell_type": "code",
   "execution_count": 3,
   "metadata": {},
   "outputs": [
    {
     "data": {
      "image/png": "[encoded data removed]",
      "text/plain": [
       "<matplotlib.figure.Figure at 0x11955a70>"
      ]
     },
     "metadata": {},
     "output_type": "display_data"
    }
   ],
   "source": [
    ">>> xnew = np.arange(0, 9, 0.1)\n",
    ">>> ynew = f(xnew)   # use interpolation function returned by `interp1d`\n",
    ">>> plt.plot(x, y, 'o', xnew, ynew, '-')\n",
    ">>> plt.show()"
   ]
  },
  {
   "cell_type": "code",
   "execution_count": null,
   "metadata": {},
   "outputs": [],
   "source": []
  },
  {
   "cell_type": "code",
   "execution_count": 17,
   "metadata": {},
   "outputs": [],
   "source": [
    "from scipy.interpolate import interp1d\n",
    "from random import random\n",
    "from datetime import datetime"
   ]
  },
  {
   "cell_type": "code",
   "execution_count": null,
   "metadata": {},
   "outputs": [
    {
     "name": "stdout",
     "output_type": "stream",
     "text": [
      "\n",
      "2019-03-27 15:52:11.532395\n",
      "2019-03-27 15:52:11.534394\n",
      "0:00:00.001999\n"
     ]
    }
   ],
   "source": [
    "\n",
    "start = datetime.now()\n",
    "x = np.linspace(0, 10, num=1000, endpoint=True)\n",
    "y = np.cos(-x**2/9.0)\n",
    "\n",
    "f2 = interp1d(x, y, kind='cubic')\n",
    "end = datetime.now()\n",
    "print()\n",
    "print(start)\n",
    "print(end)\n",
    "print(end - start)\n",
    "\n",
    "datas = [ np.round(random()*10) for _ in range(100000000)]\n",
    "\n",
    "arr = []\n",
    "start = datetime.now()\n",
    "for data in datas:\n",
    "    arr.append(f2.__call__(data))\n",
    "\n",
    "end = datetime.now()\n",
    "print()\n",
    "print(start)\n",
    "print(end)\n",
    "print(end - start)\n",
    "\n",
    "\n",
    "f = interp1d(x, y)\n",
    "xnew = np.linspace(0, 10, num=41, endpoint=True)\n",
    "import matplotlib.pyplot as plt\n",
    "plt.plot(x, y, 'o', xnew, f(xnew), '-', xnew, f2(xnew), '--')\n",
    "plt.legend(['data', 'linear', 'cubic'], loc='best')\n",
    "plt.show()"
   ]
  },
  {
   "cell_type": "code",
   "execution_count": null,
   "metadata": {},
   "outputs": [],
   "source": []
  }
 ],
 "metadata": {
  "kernelspec": {
   "display_name": "Python 3",
   "language": "python",
   "name": "python3"
  },
  "language_info": {
   "codemirror_mode": {
    "name": "ipython",
    "version": 3
   },
   "file_extension": ".py",
   "mimetype": "text/x-python",
   "name": "python",
   "nbconvert_exporter": "python",
   "pygments_lexer": "ipython3",
   "version": "3.6.8"
  }
 },
 "nbformat": 4,
 "nbformat_minor": 2
}
